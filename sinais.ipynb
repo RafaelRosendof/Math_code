{
 "cells": [
  {
   "cell_type": "code",
   "execution_count": 2,
   "id": "5f13f9a1",
   "metadata": {},
   "outputs": [],
   "source": [
    "import scipy , numpy as np\n",
    "import matplotlib.pyplot as plt\n",
    "from matplotlib.animation import FuncAnimation\n"
   ]
  },
  {
   "cell_type": "markdown",
   "id": "0cd03d1c",
   "metadata": {},
   "source": [
    "1 Definal uma variável com a informação da taxa de amostragem (srate)\n",
    "2 Compute o intervalo (período) de amostragem (dt)\n",
    "\n",
    "3 Obtenha o tempo total de registro\n",
    "\n",
    "4 Crie um vetor de tempo, um etor que tenha o mesmo tamanho dos sinais e que cada entrada diga o tempo de registro pra a entrada correspondente nos sinais "
   ]
  },
  {
   "cell_type": "code",
   "execution_count": null,
   "id": "eb081163",
   "metadata": {},
   "outputs": [
    {
     "name": "stdout",
     "output_type": "stream",
     "text": [
      "\n",
      "Plotando as lfpHFO [[-0.07958984 -0.05908203 -0.03564453 ...  0.11328125  0.12988281\n",
      "   0.12353516]]\n",
      "\n",
      "Plotando as lfpHFG [[-0.3203125  -0.31738281 -0.30712891 ...  0.16015625  0.16552734\n",
      "   0.17041016]]\n",
      "(300000,)\n",
      "\n",
      "\n",
      " Srate = 1000.0 \n",
      "\n",
      "\n",
      " Número de amostras = 300000\n",
      "\n",
      "\n",
      " Tempo em segundos [0.00000e+00 1.00000e-03 2.00000e-03 ... 2.99997e+02 2.99998e+02\n",
      " 2.99999e+02]\n"
     ]
    }
   ],
   "source": [
    "file = \"LFP_HG_HFO.mat\"\n",
    "\n",
    "wav  = scipy.io.loadmat(file)\n",
    "\n",
    "print(f\"\\nPlotando as lfpHFO {wav['lfpHFO']}\")\n",
    "lfpHFO_2d = wav['lfpHFO']\n",
    "print(f\"\\nPlotando as lfpHFG {wav['lfpHG']}\")\n",
    "lfpHG_2d = wav['lfpHG']\n",
    "\n",
    "#Dimensão original era de 2D transformando para um array de 1d agora, antes era uma lista de uma lista agora somente uma lista \n",
    "lfpHFO = np.squeeze(lfpHFO_2d)\n",
    "lfpHG = np.squeeze(lfpHG_2d)\n",
    "\n",
    "print(lfpHG.shape)\n",
    "\n",
    "#Taxa de amostragem srate \n",
    "srate = 1000.0 #Hz\n",
    "\n",
    "print(f\"\\n\\n Srate = {srate} \")\n",
    "\n",
    "#Computando intervalo(período) amostragem (dt)\n",
    "dt = 1.0 / srate  # (1 ms)\n",
    "\n",
    "n_samples = len(lfpHFO)  # Número de amostras\n",
    "\n",
    "time = np.arange(0, n_samples) * dt  # Tempo em segundos\n",
    "\n",
    "print(f\"\\n\\n Número de amostras = {n_samples}\")\n",
    "print(f\"\\n\\n Tempo em segundos {time}\")"
   ]
  },
  {
   "cell_type": "markdown",
   "id": "fab1db94",
   "metadata": {},
   "source": [
    "5 Plote somultaneamente ambos os canais sem sobreposição, e que mostre o intervalo de 10 a 15 segundos \n",
    "\n",
    "6 Plote uma barra de calibragem indicando 0.5s (horizontal) e 0.5mV na vertical"
   ]
  },
  {
   "cell_type": "code",
   "execution_count": null,
   "id": "1b1182d3",
   "metadata": {},
   "outputs": [],
   "source": []
  },
  {
   "cell_type": "markdown",
   "id": "ba096d40",
   "metadata": {},
   "source": [
    "7) Compute a densidade espectral de potência (PSD) de cada canal usando o método do\n",
    "Welch, com janelas de 2 segundos, 50% de sobreposição. Utilize o parâmetro nfft tal\n",
    "que a resolução numérica de frequências seja no mínimo 0.1 Hz.\n",
    "\n",
    "\n",
    "8) Crie 3 subplots; nos 2 primeiros subplots, plote separadamente a PSD de cada canal\n",
    "(i.e., uma PSD em cada subplot). No terceiro subplot, plote as duas PSDs juntas. Para\n",
    "todos os subplots, utilize como limite do eixo X o intervalo de 0 a 20 Hz. Use\n",
    "“Frequency (Hz)” como título do eixo X, e “Power” como título do eixo Y. Para os dois\n",
    "primeiros subplots, ponha o nome do canal como título do gráfico. Para o terceiro\n",
    "subplot, crie uma legenda indicando a cor correspondente de cada canal.\n",
    "\n",
    "\n",
    "9) Compute a potência média na banda teta (5-10 Hz) para cada canal"
   ]
  },
  {
   "cell_type": "code",
   "execution_count": null,
   "id": "53443931",
   "metadata": {},
   "outputs": [],
   "source": []
  },
  {
   "cell_type": "markdown",
   "id": "e0926af4",
   "metadata": {},
   "source": [
    "10) Plote um gráfico de barras com os valores de potência média de teta de cada canal.\n",
    "Utilize “Theta power” como título do eixo Y. No eixo X, indique com um label qual\n",
    "canal é o lfpHG e qual canal é o lfpHFO (dica: use set(gca,’xticklabel’,variavelcelula),\n",
    "onde variavelcelula é uma variável do tipo célula de duas entradas, cada uma com uma\n",
    "string ou vetores de caracteres).\n",
    "\n",
    "\n",
    "11) Crie dois subplots. No primeiro, plote as duas PSDs juntas em escala normal, com\n",
    "limite do eixo X de 0 a 200 Hz. No segundo, plote novamente as duas PSDs, mas dessa\n",
    "vez em escala logarítmica para o eixo Y"
   ]
  },
  {
   "cell_type": "code",
   "execution_count": null,
   "id": "dea4cf9e",
   "metadata": {},
   "outputs": [],
   "source": []
  },
  {
   "cell_type": "markdown",
   "id": "3c816908",
   "metadata": {},
   "source": [
    "12) Obtenha novamente a PSD para o sinal lfpHG, mas dessa vez informando, ao invés do\n",
    "parâmetro nfft, o vetor de frequências de 0 a 15 Hz em passos (step) de 0.01 Hz (i.e, F\n",
    "= 0:0.01:15). Ainda, utilize dois tamanhos de janelas diferentes (isto é, compute 2\n",
    "PSDs): (a) todo o sinal (i.e., window = length(lfpHG)) e (b) 1 segundo. Plote as duas\n",
    "PSDs num mesmo gráfico. Utilize uma largura de linha (linewidth) de 4 pts para o PSD\n",
    "obtido com janelas de 1 segundo.\n",
    "\n",
    "\n",
    "13) Faça como no exercício anterior, mas utilizando o sinal lfpHFO e vetor de frequências\n",
    "de 100 a 150 Hz (i.e., F=100:0.01:150)."
   ]
  },
  {
   "cell_type": "markdown",
   "id": "b74436cb",
   "metadata": {},
   "source": []
  }
 ],
 "metadata": {
  "kernelspec": {
   "display_name": "figas2",
   "language": "python",
   "name": "python3"
  },
  "language_info": {
   "codemirror_mode": {
    "name": "ipython",
    "version": 3
   },
   "file_extension": ".py",
   "mimetype": "text/x-python",
   "name": "python",
   "nbconvert_exporter": "python",
   "pygments_lexer": "ipython3",
   "version": "3.9.18"
  }
 },
 "nbformat": 4,
 "nbformat_minor": 5
}
