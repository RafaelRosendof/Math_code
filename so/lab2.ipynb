{
 "cells": [
  {
   "cell_type": "code",
   "execution_count": null,
   "metadata": {
    "vscode": {
     "languageId": "plaintext"
    }
   },
   "outputs": [],
   "source": [
    "#### Questão 1\n",
    "\n",
    "%%writefile ex1.c\n",
    "\n",
    "#include <sys/types.h>\n",
    "#include <sys/wait.h>\n",
    "#include <stdio.h>\n",
    "#include <unistd.h>\n",
    "#include <sys/shm.h>\n",
    "#include <sys/stat.h>\n",
    "#include <stdlib.h>\n",
    "\n",
    "int main(int argc , char **argv){\n",
    "\n",
    "    int segment_id = shmget(IPC_PRIVATE , sizeof(int) , S_IRUSR | S_IWUSR);\n",
    "    if(segment_id == -1){\n",
    "        perror(\"Erro ao criar segmento de memória compartilhada \");\n",
    "        return 1;\n",
    "    }\n",
    "\n",
    "    //fazendo pointer compartilhado \n",
    "    int *shrPointer;\n",
    "\n",
    "    shrPointer = (int *) shmat(segment_id , NULL , 0);\n",
    "    if(shrPointer == (int *)-1){\n",
    "        perror(\"Erro ao anexar memória compartilhada\");\n",
    "        return 1;\n",
    "    }\n",
    "\n",
    "    *shrPointer = 0;\n",
    "    //fazendo filho 1\n",
    "\n",
    "    pid_t pid1 = fork();\n",
    "\n",
    "    if(pid1 < 0){\n",
    "        perror(\"Erro ao inicar f1\");\n",
    "        return 1;\n",
    "    } else if( pid1 == 0){\n",
    "        shrPointer = (int *)shmat(segment_id , NULL , 0);\n",
    "        *shrPointer += 10;\n",
    "        printf(\"Primeiro filho (PID %d): incrementou o valor para %d\\n\", getpid(), *shrPointer);\n",
    "\n",
    "        shmdt(shrPointer);\n",
    "\n",
    "        exit(0);\n",
    "    }\n",
    "    else{\n",
    "\n",
    "        pid_t pid2 = fork();\n",
    "\n",
    "        if(pid2 < 0){\n",
    "            perror(\"Erro ao inicar f1\");\n",
    "            return 1;\n",
    "        }\n",
    "        else if( pid2 == 0){\n",
    "            shrPointer = (int *)shmat(segment_id , NULL , 0);\n",
    "            *shrPointer += 10;\n",
    "            printf(\"segundo filho (PID %d): incrementou o valor para %d\\n\", getpid(), *shrPointer);\n",
    "\n",
    "            shmdt(shrPointer);\n",
    "\n",
    "            exit(0);\n",
    "        }\n",
    "        else { \n",
    "            // Esperando \n",
    "            waitpid(pid1, NULL, 0);\n",
    "\n",
    "            // Esperando \n",
    "            waitpid(pid2, NULL, 0);\n",
    "            \n",
    "            printf(\"Processo pai (PID %d): valor final na memória compartilhada: %d\\n\", getpid(), *shrPointer);\n",
    "            \n",
    "            // Desanexando \n",
    "            shmdt(shrPointer);\n",
    "            \n",
    "            // Removendo \n",
    "            shmctl(segment_id, IPC_RMID, NULL);\n",
    "\n",
    "        }\n",
    "    }\n",
    "\n",
    "    return 0;\n",
    "\n",
    "}"
   ]
  },
  {
   "cell_type": "code",
   "execution_count": null,
   "metadata": {
    "vscode": {
     "languageId": "plaintext"
    }
   },
   "outputs": [],
   "source": []
  }
 ],
 "metadata": {
  "language_info": {
   "name": "python"
  }
 },
 "nbformat": 4,
 "nbformat_minor": 2
}
